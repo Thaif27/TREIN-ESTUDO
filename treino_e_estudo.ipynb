{
  "nbformat": 4,
  "nbformat_minor": 0,
  "metadata": {
    "colab": {
      "name": "treino e estudo.ipynb",
      "provenance": [],
      "collapsed_sections": [],
      "authorship_tag": "ABX9TyOrYMn3alemL4C+U0jnACoi"
    },
    "kernelspec": {
      "name": "python3",
      "display_name": "Python 3"
    },
    "language_info": {
      "name": "python"
    }
  },
  "cells": [
    {
      "cell_type": "code",
      "metadata": {
        "colab": {
          "base_uri": "https://localhost:8080/"
        },
        "id": "kmXuxaEibFQn",
        "outputId": "2a18dc67-0f69-4839-a053-45c7777c0c90"
      },
      "source": [
        "\n",
        "nome = input('Digite seu nome: ')\n",
        "print(f'Seu nome é {nome}.')"
      ],
      "execution_count": null,
      "outputs": [
        {
          "output_type": "stream",
          "name": "stdout",
          "text": [
            "Digite seu nome: Thaif\n",
            "Seu nome é Thaif.\n"
          ]
        }
      ]
    },
    {
      "cell_type": "code",
      "metadata": {
        "colab": {
          "base_uri": "https://localhost:8080/"
        },
        "id": "BwOuO5oYbk1U",
        "outputId": "92158835-7027-4ee4-ef64-7bcd9f235069"
      },
      "source": [
        "peso = float(input('Digite seu peso: '))\n",
        "print(f'Você pesa {peso}KGs')\n",
        "print(type(peso))"
      ],
      "execution_count": null,
      "outputs": [
        {
          "output_type": "stream",
          "name": "stdout",
          "text": [
            "Digite seu peso: 95\n",
            "Você pesa 95.0KGs\n",
            "<class 'float'>\n"
          ]
        }
      ]
    },
    {
      "cell_type": "code",
      "metadata": {
        "id": "dASZ6Ce2foNY"
      },
      "source": [
        ""
      ],
      "execution_count": null,
      "outputs": []
    },
    {
      "cell_type": "code",
      "metadata": {
        "colab": {
          "base_uri": "https://localhost:8080/"
        },
        "id": "tl_ZwFAHfrFe",
        "outputId": "e2701948-a363-4513-dc7e-69868966de77"
      },
      "source": [
        "num = int(input('Digite um número: ')) \n",
        "if num % 2 == 0: \n",
        "    print(f'O número {num} é par') \n",
        "else: \n",
        "      print(f'O número {num} é ímpar')"
      ],
      "execution_count": null,
      "outputs": [
        {
          "output_type": "stream",
          "name": "stdout",
          "text": [
            "Digite um número: 3\n",
            "O número 3 é ímpar\n"
          ]
        }
      ]
    },
    {
      "cell_type": "code",
      "metadata": {
        "colab": {
          "base_uri": "https://localhost:8080/"
        },
        "id": "DFjtlRV_gatB",
        "outputId": "4466dd97-c778-4fc9-b1ed-c035ced08b38"
      },
      "source": [
        "num = float(input('Digite um número: '))\n",
        "#SE\n",
        "if num > 0:\n",
        "  print('Este número é positivo')\n",
        "\n",
        "elif num == 0:\n",
        "   print('Este número é neutro')\n",
        "\n",
        "#SENAO\n",
        "else:\n",
        "   print('Este número é negativo')"
      ],
      "execution_count": null,
      "outputs": [
        {
          "output_type": "stream",
          "name": "stdout",
          "text": [
            "Digite um número: 0\n",
            "Este número é neutro\n"
          ]
        }
      ]
    },
    {
      "cell_type": "code",
      "metadata": {
        "colab": {
          "base_uri": "https://localhost:8080/"
        },
        "id": "AGVrEa4Mhhn8",
        "outputId": "f2157560-2c5f-4e91-d54f-712bf9f745f7"
      },
      "source": [
        "resposta=int( input('Qual sua idade: ') )\n",
        "if  resposta>=18 and resposta <=65:\n",
        "    print('Você é obrigado a votar!')\n",
        "else:\n",
        "    print('Você não é obrigado a votar!')"
      ],
      "execution_count": null,
      "outputs": [
        {
          "output_type": "stream",
          "name": "stdout",
          "text": [
            "Qual sua idade: 17\n",
            "Você não é obrigado a votar!\n"
          ]
        }
      ]
    },
    {
      "cell_type": "code",
      "metadata": {
        "colab": {
          "base_uri": "https://localhost:8080/"
        },
        "id": "s1vabuMliLF9",
        "outputId": "dabdddc6-e27a-4216-88bd-3c867b41de99"
      },
      "source": [
        "print('1. Idoso')\n",
        "print('2. Gestante')\n",
        "print('3. Cadeirante')\n",
        "print('4. Nenhum destes')\n",
        "resposta=int( input('Você é: ') )\n",
        "if (resposta==1) or (resposta==2) or (resposta==3) :\n",
        "   print('Você tem direito a fila prioritária')\n",
        "else:\n",
        "   print('Você não tem direito a nada. Vá pra fila e fique quieto')"
      ],
      "execution_count": null,
      "outputs": [
        {
          "output_type": "stream",
          "name": "stdout",
          "text": [
            "1. Idoso\n",
            "2. Gestante\n",
            "3. Cadeirante\n",
            "4. Nenhum destes\n",
            "Você tem direito a fila prioritária\n"
          ]
        }
      ]
    }
  ]
}